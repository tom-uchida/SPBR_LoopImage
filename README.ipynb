{
 "metadata": {
  "language_info": {
   "codemirror_mode": {
    "name": "ipython",
    "version": 3
   },
   "file_extension": ".py",
   "mimetype": "text/x-python",
   "name": "python",
   "nbconvert_exporter": "python",
   "pygments_lexer": "ipython3",
   "version": "3.6.5-final"
  },
  "orig_nbformat": 2,
  "kernelspec": {
   "name": "python3",
   "display_name": "Python 3",
   "language": "python"
  }
 },
 "nbformat": 4,
 "nbformat_minor": 2,
 "cells": [
  {
   "source": [
    "## SPBR_LoopImage"
   ],
   "cell_type": "markdown",
   "metadata": {}
  },
  {
   "source": [
    "## Overview\n",
    "Generate series of images using SPBR."
   ],
   "cell_type": "markdown",
   "metadata": {}
  },
  {
   "source": [
    "## Usage\n",
    "```bash\n",
    "$ cd SPBR_LoopImage\n",
    "$ sh config_spbr.sh\n",
    "$ make\n",
    "$ ./spbr_loop_image SPBR_DATA/header.spbr SPBR_DATA/bunny_viridis.spbr \n",
    "```"
   ],
   "cell_type": "markdown",
   "metadata": {}
  },
  {
   "source": [
    "## How to make video\n",
    "```\n",
    "$ ./ffmpeg -i IMAGE_DATA/image%03d.bmp -pix_fmt yuv420p VIDEO_DATA/out.mp4\n",
    "$ open VIDEO_DATA/out.mp4 \n",
    "```"
   ],
   "cell_type": "markdown",
   "metadata": {}
  },
  {
   "source": [
    "## How to set the number of images and the rotation axis\n",
    "- `create_loop_image.h`\n",
    "\n",
    "```C++\n",
    "// 画像の枚数の設定\n",
    "const int num_of_Image = 180;\n",
    "// const int num_of_Image = 360; \n",
    "\n",
    "// 回転軸の設定\n",
    "//enum ROTATEAXIS{XROTATE, YROTATE, ZROTATE}axis = ZROTATE; // Z軸周り\n",
    "enum ROTATEAXIS{XROTATE, YROTATE, ZROTATE}axis = YROTATE; // Y軸周り\n",
    "```"
   ],
   "cell_type": "markdown",
   "metadata": {}
  },
  {
   "cell_type": "code",
   "execution_count": null,
   "metadata": {},
   "outputs": [],
   "source": []
  }
 ]
}